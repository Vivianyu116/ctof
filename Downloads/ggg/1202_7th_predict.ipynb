{
 "cells": [
  {
   "cell_type": "code",
   "execution_count": 1,
   "metadata": {},
   "outputs": [
    {
     "name": "stderr",
     "output_type": "stream",
     "text": [
      "/opt/conda/lib/python3.6/site-packages/h5py/__init__.py:36: FutureWarning: Conversion of the second argument of issubdtype from `float` to `np.floating` is deprecated. In future, it will be treated as `np.float64 == np.dtype(float).type`.\n",
      "  from ._conv import register_converters as _register_converters\n",
      "Using TensorFlow backend.\n"
     ]
    }
   ],
   "source": [
    "from keras.preprocessing.image import img_to_array\n",
    "from PIL import Image\n",
    "import numpy as np\n",
    "import os"
   ]
  },
  {
   "cell_type": "code",
   "execution_count": 2,
   "metadata": {},
   "outputs": [
    {
     "name": "stdout",
     "output_type": "stream",
     "text": [
      "Collecting imutils\n",
      "Installing collected packages: imutils\n",
      "Successfully installed imutils-0.5.1\n"
     ]
    }
   ],
   "source": [
    "! pip install imutils"
   ]
  },
  {
   "cell_type": "code",
   "execution_count": 3,
   "metadata": {},
   "outputs": [],
   "source": [
    "from imutils import paths"
   ]
  },
  {
   "cell_type": "code",
   "execution_count": 4,
   "metadata": {},
   "outputs": [],
   "source": [
    "a={'dent':0, 'leeton':1, 'pimple':2, 'residual':3, 'scratch_M':4, 'spot_M':5, 'foreign':6,\\\n",
    "   'longscratch_M':7, 'pinhole':8, 'scratch':9, 'spot':10, 'wrinkle':11}"
   ]
  },
  {
   "cell_type": "code",
   "execution_count": null,
   "metadata": {},
   "outputs": [],
   "source": []
  },
  {
   "cell_type": "code",
   "execution_count": 5,
   "metadata": {},
   "outputs": [
    {
     "data": {
      "text/plain": [
       "'/home/jovyan/Vivian_1070926/Yunzy/training_code'"
      ]
     },
     "execution_count": 5,
     "metadata": {},
     "output_type": "execute_result"
    }
   ],
   "source": [
    "os.getcwd()"
   ]
  },
  {
   "cell_type": "code",
   "execution_count": 12,
   "metadata": {},
   "outputs": [],
   "source": [
    "os.chdir('/home/jovyan/Vivian_1070926/Yunzy/model_save')"
   ]
  },
  {
   "cell_type": "code",
   "execution_count": 9,
   "metadata": {},
   "outputs": [],
   "source": [
    "from keras.models import load_model\n",
    "model = load_model('7th.h5')"
   ]
  },
  {
   "cell_type": "code",
   "execution_count": 13,
   "metadata": {},
   "outputs": [],
   "source": [
    "os.chdir('/home/jovyan/Vivian_1070926/Yunzy')"
   ]
  },
  {
   "cell_type": "code",
   "execution_count": 14,
   "metadata": {},
   "outputs": [
    {
     "name": "stdout",
     "output_type": "stream",
     "text": [
      "./sep_pic/aug/aa/1261504-10405-20180110_00004.bmp\n",
      "./sep_pic/aug/aa/1261504-10405-20180110_00005.bmp\n",
      "./sep_pic/aug/aa/1261504-10405-20180110_00006.bmp\n",
      "./sep_pic/aug/aa/1261504-10405-20180110_00007.bmp\n",
      "./sep_pic/aug/aa/1261504-10405-20180110_00008.bmp\n",
      "./sep_pic/aug/aa/1261504-10405-20180110_00033.bmp\n",
      "./sep_pic/aug/aa/1261504-10405-20180110_00034.bmp\n",
      "./sep_pic/aug/aa/1261504-10405-20180110_00036.bmp\n",
      "./sep_pic/aug/aa/1261504-10405-20180110_00037.bmp\n",
      "./sep_pic/aug/aa/1261504-10405-20180110_00056.bmp\n",
      "./sep_pic/aug/aa/1261504-10405-20180110_00058.bmp\n",
      "./sep_pic/aug/aa/1261504-10405-20180110_00089.bmp\n",
      "./sep_pic/aug/aa/1261504-10405-20180110_00100.bmp\n",
      "./sep_pic/aug/aa/1261504-10405-20180110_00361.bmp\n",
      "./sep_pic/aug/aa/1261504-10405-20180110_00506.bmp\n"
     ]
    }
   ],
   "source": [
    "data=[]\n",
    "imagePaths = sorted(list(paths.list_images(\"./sep_pic/aug\")))\n",
    "for imagePath in imagePaths:\n",
    "    label = imagePath.split(os.path.sep)[4] \n",
    "#     print(imagePath)\n",
    "#     print(label)\n",
    "    if label[0] == \".\":\n",
    "        print(imagePath)\n",
    "        os.remove(imagePath) \n",
    "        print(os.path.exists(imagePath))\n",
    "        continue\n",
    "    print(imagePath)\n",
    "    image = Image.open(imagePath)\n",
    "    image = image.resize((100, 100))\n",
    "    image = img_to_array(image)\n",
    "    data.append(image)"
   ]
  },
  {
   "cell_type": "code",
   "execution_count": 15,
   "metadata": {},
   "outputs": [
    {
     "data": {
      "text/plain": [
       "(15, 100, 100, 3)"
      ]
     },
     "execution_count": 15,
     "metadata": {},
     "output_type": "execute_result"
    }
   ],
   "source": [
    "data=np.array(data)/255\n",
    "data.shape"
   ]
  },
  {
   "cell_type": "code",
   "execution_count": 24,
   "metadata": {},
   "outputs": [
    {
     "data": {
      "text/plain": [
       "array([1.5875220e-12, 7.4830080e-20, 6.8009004e-10, 3.1620380e-13,\n",
       "       4.1157377e-13, 2.4535354e-13, 3.0677951e-12, 1.9474856e-12,\n",
       "       9.9999928e-01, 1.5870177e-14, 4.2492814e-15, 7.4690826e-07],\n",
       "      dtype=float32)"
      ]
     },
     "execution_count": 24,
     "metadata": {},
     "output_type": "execute_result"
    }
   ],
   "source": [
    "prediction = model.predict(data)\n",
    "prediction[0]"
   ]
  },
  {
   "cell_type": "code",
   "execution_count": 26,
   "metadata": {},
   "outputs": [
    {
     "data": {
      "text/plain": [
       "array([ 8,  8,  8,  8,  8, 11, 11, 11, 11,  1,  1,  1,  1,  1, 11])"
      ]
     },
     "execution_count": 26,
     "metadata": {},
     "output_type": "execute_result"
    }
   ],
   "source": [
    "pred_label = np.argmax(prediction, axis=1)\n",
    "pred_label"
   ]
  },
  {
   "cell_type": "code",
   "execution_count": 21,
   "metadata": {},
   "outputs": [
    {
     "data": {
      "text/plain": [
       "array([ 8,  8,  8,  8,  8, 11, 11, 11, 11,  1,  1,  1,  1,  1, 11])"
      ]
     },
     "execution_count": 21,
     "metadata": {},
     "output_type": "execute_result"
    }
   ],
   "source": [
    "prediction = model.predict_classes(data)\n",
    "prediction"
   ]
  },
  {
   "cell_type": "code",
   "execution_count": null,
   "metadata": {},
   "outputs": [],
   "source": []
  }
 ],
 "metadata": {
  "kernelspec": {
   "display_name": "Python 3",
   "language": "python",
   "name": "python3"
  },
  "language_info": {
   "codemirror_mode": {
    "name": "ipython",
    "version": 3
   },
   "file_extension": ".py",
   "mimetype": "text/x-python",
   "name": "python",
   "nbconvert_exporter": "python",
   "pygments_lexer": "ipython3",
   "version": "3.6.6"
  }
 },
 "nbformat": 4,
 "nbformat_minor": 2
}
