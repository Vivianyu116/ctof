{
 "cells": [
  {
   "cell_type": "code",
   "execution_count": 1,
   "metadata": {},
   "outputs": [
    {
     "name": "stderr",
     "output_type": "stream",
     "text": [
      "/opt/conda/lib/python3.6/site-packages/h5py/__init__.py:36: FutureWarning: Conversion of the second argument of issubdtype from `float` to `np.floating` is deprecated. In future, it will be treated as `np.float64 == np.dtype(float).type`.\n",
      "  from ._conv import register_converters as _register_converters\n",
      "Using TensorFlow backend.\n"
     ]
    }
   ],
   "source": [
    "from keras.preprocessing.image import ImageDataGenerator\n",
    "from keras.optimizers import Adam\n",
    "from sklearn.model_selection import train_test_split\n",
    "from keras.preprocessing.image import img_to_array\n",
    "from keras.utils import to_categorical\n",
    "from keras.callbacks import ModelCheckpoint, LearningRateScheduler, EarlyStopping, Callback, ReduceLROnPlateau\n",
    "from PIL import Image\n",
    "import cv2\n",
    "import matplotlib.pyplot as plt\n",
    "import numpy as np\n",
    "import argparse\n",
    "import random\n",
    "import os\n",
    "import sys\n",
    "sys.path.append('..')"
   ]
  },
  {
   "cell_type": "code",
   "execution_count": 2,
   "metadata": {},
   "outputs": [
    {
     "name": "stdout",
     "output_type": "stream",
     "text": [
      "Collecting imutils\n",
      "Installing collected packages: imutils\n",
      "Successfully installed imutils-0.5.1\n"
     ]
    }
   ],
   "source": [
    "! pip install imutils"
   ]
  },
  {
   "cell_type": "code",
   "execution_count": 3,
   "metadata": {},
   "outputs": [],
   "source": [
    "from imutils import paths"
   ]
  },
  {
   "cell_type": "code",
   "execution_count": 4,
   "metadata": {},
   "outputs": [],
   "source": [
    "os.chdir('/home/jovyan/Vivian_1070926/Yunzy')"
   ]
  },
  {
   "cell_type": "code",
   "execution_count": 5,
   "metadata": {},
   "outputs": [
    {
     "data": {
      "text/plain": [
       "'/home/jovyan/Vivian_1070926/Yunzy'"
      ]
     },
     "execution_count": 5,
     "metadata": {},
     "output_type": "execute_result"
    }
   ],
   "source": [
    "os.getcwd()"
   ]
  },
  {
   "cell_type": "code",
   "execution_count": 6,
   "metadata": {},
   "outputs": [],
   "source": [
    "a={'dent':0, 'leeton':1, 'pimple':2, 'residual':3, 'scratch_M':4, 'spot_M':5, 'foreign':6,\\\n",
    "   'longscratch_M':7, 'pinhole':8, 'scratch':9, 'spot':10, 'wrinkle':11}"
   ]
  },
  {
   "cell_type": "code",
   "execution_count": 7,
   "metadata": {},
   "outputs": [],
   "source": [
    "CLASS_NUM =12"
   ]
  },
  {
   "cell_type": "code",
   "execution_count": 8,
   "metadata": {},
   "outputs": [],
   "source": [
    "data=[]\n",
    "labels=[]\n",
    "imagePaths = sorted(list(paths.list_images(\"1121aug_12types_100x100/\")))\n",
    "random.seed(42)\n",
    "random.shuffle(imagePaths)\n",
    "for sub in imagePaths:\n",
    "        label = sub.split(os.path.sep)[1] \n",
    "        if label[0] == \".\":\n",
    "            continue\n",
    "        labels.append(a[label])\n",
    "        image = Image.open(sub)\n",
    "        try:\n",
    "            image = image.resize((100, 100))\n",
    "        except:\n",
    "            print(image)\n",
    "        image = img_to_array(image)\n",
    "        data.append(image)   "
   ]
  },
  {
   "cell_type": "code",
   "execution_count": 9,
   "metadata": {},
   "outputs": [],
   "source": [
    "data = np.array(data, dtype=\"float\") / 255.0\n",
    "labels = np.array(labels)        "
   ]
  },
  {
   "cell_type": "code",
   "execution_count": 10,
   "metadata": {},
   "outputs": [],
   "source": [
    "(trainX, testX, trainY, testY) = train_test_split(data,\\\n",
    "            labels, test_size=0.2, random_state=42)      \n",
    "(trainX, valX, trainY, valY) = train_test_split(trainX,\\\n",
    "            trainY, test_size=0.25, random_state=42)"
   ]
  },
  {
   "cell_type": "code",
   "execution_count": 11,
   "metadata": {},
   "outputs": [],
   "source": [
    "trainY = to_categorical(trainY, num_classes=CLASS_NUM)\n",
    "testnewY = to_categorical(testY, num_classes=CLASS_NUM)\n",
    "valY = to_categorical(valY, num_classes=CLASS_NUM)\n"
   ]
  },
  {
   "cell_type": "code",
   "execution_count": 12,
   "metadata": {},
   "outputs": [
    {
     "name": "stdout",
     "output_type": "stream",
     "text": [
      "(12388, 100, 100, 3) (12388, 12) (4130, 100, 100, 3) (4130, 12)\n"
     ]
    }
   ],
   "source": [
    "print(trainX.shape, trainY.shape, testX.shape, testnewY.shape)"
   ]
  },
  {
   "cell_type": "code",
   "execution_count": 13,
   "metadata": {},
   "outputs": [],
   "source": [
    "from keras.applications import Xception  #引入能夠架 Xception 的類別\n",
    "from keras import models\n",
    "from keras import layers"
   ]
  },
  {
   "cell_type": "code",
   "execution_count": 14,
   "metadata": {},
   "outputs": [],
   "source": [
    "model_name = 'Xception-15th'\n",
    "\n",
    "conv_base = Xception(weights=\"imagenet\",include_top=False,input_shape=(100,100,3)) # 架 Xception\n",
    "model = models.Sequential() # 建一個空的模型\n",
    "model.add(conv_base) # 把前面架好的 Xception 放進模型\n",
    "model.add(layers.Flatten()) # 把 Xception 抽取出的圖片特徵攤平\n",
    "model.add(layers.Dense(256,activation=\"relu\",kernel_initializer='random_normal')) # 再來就是通過幾層 Dense 來做分類\n",
    "model.add(layers.Dropout(0.3)) # 加 Dropout 避免 overfitting\n",
    "model.add(layers.Dense(128,activation=\"relu\",kernel_initializer='random_normal'))\n",
    "model.add(layers.Dropout(0.3))\n",
    "model.add(layers.Dense(12,activation=\"softmax\",kernel_initializer='random_normal'))"
   ]
  },
  {
   "cell_type": "code",
   "execution_count": 15,
   "metadata": {},
   "outputs": [],
   "source": [
    "datagen = ImageDataGenerator(width_shift_range=0.01,\\\n",
    "                             height_shift_range=0.01,shear_range=0.005,zoom_range=0.005,horizontal_flip=True)"
   ]
  },
  {
   "cell_type": "code",
   "execution_count": 16,
   "metadata": {},
   "outputs": [],
   "source": [
    "model_path = './model_save_checkpoint/{}.h5'.format(model_name)\n",
    "\n",
    "lr_reducer = ReduceLROnPlateau(monitor='loss', factor=0.1, cooldown=0, patience=5, min_lr=0.1e-8)\n",
    "checkpoint = ModelCheckpoint(model_path, monitor='loss', save_best_only=True, verbose=1)\n",
    "earlystop = EarlyStopping(monitor='loss', patience=15, verbose=1)"
   ]
  },
  {
   "cell_type": "code",
   "execution_count": 17,
   "metadata": {},
   "outputs": [
    {
     "name": "stdout",
     "output_type": "stream",
     "text": [
      "Epoch 1/100\n",
      "100/100 [==============================] - 29s 285ms/step - loss: 0.8192 - acc: 0.7520 - val_loss: 0.6784 - val_acc: 0.8400\n",
      "\n",
      "Epoch 00001: loss improved from inf to 0.81934, saving model to ./model_save_checkpoint/Xception-15th.h5\n",
      "Epoch 2/100\n",
      "100/100 [==============================] - 19s 189ms/step - loss: 0.4196 - acc: 0.8941 - val_loss: 0.4278 - val_acc: 0.9070\n",
      "\n",
      "Epoch 00002: loss improved from 0.81934 to 0.41957, saving model to ./model_save_checkpoint/Xception-15th.h5\n",
      "Epoch 3/100\n",
      "100/100 [==============================] - 19s 192ms/step - loss: 0.2979 - acc: 0.9228 - val_loss: 0.2230 - val_acc: 0.9472\n",
      "\n",
      "Epoch 00003: loss improved from 0.41957 to 0.29839, saving model to ./model_save_checkpoint/Xception-15th.h5\n",
      "Epoch 4/100\n",
      "100/100 [==============================] - 19s 192ms/step - loss: 0.3281 - acc: 0.9261 - val_loss: 1.9452 - val_acc: 0.7758\n",
      "\n",
      "Epoch 00004: loss did not improve from 0.29839\n",
      "Epoch 5/100\n",
      "100/100 [==============================] - 19s 193ms/step - loss: 0.2262 - acc: 0.9381 - val_loss: 0.2654 - val_acc: 0.9429\n",
      "\n",
      "Epoch 00005: loss improved from 0.29839 to 0.22557, saving model to ./model_save_checkpoint/Xception-15th.h5\n",
      "Epoch 6/100\n",
      "100/100 [==============================] - 19s 192ms/step - loss: 0.2166 - acc: 0.9408 - val_loss: 0.1667 - val_acc: 0.9479\n",
      "\n",
      "Epoch 00006: loss improved from 0.22557 to 0.21655, saving model to ./model_save_checkpoint/Xception-15th.h5\n",
      "Epoch 7/100\n",
      "100/100 [==============================] - 19s 192ms/step - loss: 0.1680 - acc: 0.9514 - val_loss: 0.2419 - val_acc: 0.9329\n",
      "\n",
      "Epoch 00007: loss improved from 0.21655 to 0.16849, saving model to ./model_save_checkpoint/Xception-15th.h5\n",
      "Epoch 8/100\n",
      "100/100 [==============================] - 19s 191ms/step - loss: 0.2313 - acc: 0.9397 - val_loss: 0.3060 - val_acc: 0.9162\n",
      "\n",
      "Epoch 00008: loss did not improve from 0.16849\n",
      "Epoch 9/100\n",
      "100/100 [==============================] - 19s 192ms/step - loss: 0.1969 - acc: 0.9467 - val_loss: 0.1800 - val_acc: 0.9525\n",
      "\n",
      "Epoch 00009: loss did not improve from 0.16849\n",
      "Epoch 10/100\n",
      "100/100 [==============================] - 20s 197ms/step - loss: 0.1910 - acc: 0.9470 - val_loss: 0.2307 - val_acc: 0.9295\n",
      "\n",
      "Epoch 00010: loss did not improve from 0.16849\n",
      "Epoch 11/100\n",
      "100/100 [==============================] - 19s 193ms/step - loss: 0.1819 - acc: 0.9459 - val_loss: 0.2130 - val_acc: 0.9322\n",
      "\n",
      "Epoch 00011: loss did not improve from 0.16849\n",
      "Epoch 12/100\n",
      "100/100 [==============================] - 19s 192ms/step - loss: 0.1682 - acc: 0.9523 - val_loss: 0.1785 - val_acc: 0.9516\n",
      "\n",
      "Epoch 00012: loss improved from 0.16849 to 0.16816, saving model to ./model_save_checkpoint/Xception-15th.h5\n",
      "Epoch 13/100\n",
      "100/100 [==============================] - 19s 194ms/step - loss: 0.1379 - acc: 0.9594 - val_loss: 0.1416 - val_acc: 0.9598\n",
      "\n",
      "Epoch 00013: loss improved from 0.16816 to 0.13786, saving model to ./model_save_checkpoint/Xception-15th.h5\n",
      "Epoch 14/100\n",
      "100/100 [==============================] - 19s 191ms/step - loss: 0.1393 - acc: 0.9592 - val_loss: 0.2877 - val_acc: 0.9266\n",
      "\n",
      "Epoch 00014: loss improved from 0.13786 to 0.13605, saving model to ./model_save_checkpoint/Xception-15th.h5\n",
      "Epoch 15/100\n",
      "100/100 [==============================] - 19s 193ms/step - loss: 0.1641 - acc: 0.9547 - val_loss: 0.2315 - val_acc: 0.9303\n",
      "\n",
      "Epoch 00015: loss did not improve from 0.13605\n",
      "Epoch 16/100\n",
      "100/100 [==============================] - 19s 192ms/step - loss: 0.1731 - acc: 0.9536 - val_loss: 0.2050 - val_acc: 0.9446\n",
      "\n",
      "Epoch 00016: loss did not improve from 0.13605\n",
      "Epoch 17/100\n",
      "100/100 [==============================] - 19s 192ms/step - loss: 0.1400 - acc: 0.9600 - val_loss: 0.1388 - val_acc: 0.9630\n",
      "\n",
      "Epoch 00017: loss did not improve from 0.13605\n",
      "Epoch 18/100\n",
      "100/100 [==============================] - 19s 192ms/step - loss: 0.1406 - acc: 0.9628 - val_loss: 0.1669 - val_acc: 0.9552\n",
      "\n",
      "Epoch 00018: loss did not improve from 0.13605\n",
      "Epoch 19/100\n",
      "100/100 [==============================] - 19s 193ms/step - loss: 0.1255 - acc: 0.9664 - val_loss: 0.2677 - val_acc: 0.9482\n",
      "\n",
      "Epoch 00019: loss improved from 0.13605 to 0.12588, saving model to ./model_save_checkpoint/Xception-15th.h5\n",
      "Epoch 20/100\n",
      "100/100 [==============================] - 19s 192ms/step - loss: 0.1845 - acc: 0.9548 - val_loss: 1.2412 - val_acc: 0.8346\n",
      "\n",
      "Epoch 00020: loss did not improve from 0.12588\n",
      "Epoch 21/100\n",
      "100/100 [==============================] - 19s 190ms/step - loss: 0.1840 - acc: 0.9527 - val_loss: 0.2179 - val_acc: 0.9455\n",
      "\n",
      "Epoch 00021: loss did not improve from 0.12588\n",
      "Epoch 22/100\n",
      "100/100 [==============================] - 19s 191ms/step - loss: 0.1462 - acc: 0.9613 - val_loss: 0.1849 - val_acc: 0.9489\n",
      "\n",
      "Epoch 00022: loss did not improve from 0.12588\n",
      "Epoch 23/100\n",
      "100/100 [==============================] - 19s 191ms/step - loss: 0.1089 - acc: 0.9659 - val_loss: 0.1526 - val_acc: 0.9545\n",
      "\n",
      "Epoch 00023: loss improved from 0.12588 to 0.10891, saving model to ./model_save_checkpoint/Xception-15th.h5\n",
      "Epoch 24/100\n",
      "100/100 [==============================] - 19s 192ms/step - loss: 0.1251 - acc: 0.9646 - val_loss: 0.1786 - val_acc: 0.9538\n",
      "\n",
      "Epoch 00024: loss did not improve from 0.10891\n",
      "Epoch 25/100\n",
      "100/100 [==============================] - 19s 189ms/step - loss: 0.1332 - acc: 0.9656 - val_loss: 0.1715 - val_acc: 0.9598\n",
      "\n",
      "Epoch 00025: loss did not improve from 0.10891\n",
      "Epoch 26/100\n",
      "100/100 [==============================] - 19s 191ms/step - loss: 0.1045 - acc: 0.9702 - val_loss: 0.1267 - val_acc: 0.9617\n",
      "\n",
      "Epoch 00026: loss improved from 0.10891 to 0.10447, saving model to ./model_save_checkpoint/Xception-15th.h5\n",
      "Epoch 27/100\n",
      "100/100 [==============================] - 19s 193ms/step - loss: 0.1286 - acc: 0.9637 - val_loss: 0.1548 - val_acc: 0.9492\n",
      "\n",
      "Epoch 00027: loss did not improve from 0.10447\n",
      "Epoch 28/100\n",
      "100/100 [==============================] - 19s 192ms/step - loss: 0.0765 - acc: 0.9773 - val_loss: 0.1455 - val_acc: 0.9581\n",
      "\n",
      "Epoch 00028: loss improved from 0.10447 to 0.07647, saving model to ./model_save_checkpoint/Xception-15th.h5\n",
      "Epoch 29/100\n",
      "100/100 [==============================] - 19s 193ms/step - loss: 0.0893 - acc: 0.9746 - val_loss: 0.1533 - val_acc: 0.9642\n",
      "\n",
      "Epoch 00029: loss did not improve from 0.07647\n",
      "Epoch 30/100\n",
      "100/100 [==============================] - 19s 193ms/step - loss: 0.0884 - acc: 0.9739 - val_loss: 0.1593 - val_acc: 0.9610\n",
      "\n",
      "Epoch 00030: loss did not improve from 0.07647\n",
      "Epoch 31/100\n",
      "100/100 [==============================] - 19s 191ms/step - loss: 0.0859 - acc: 0.9746 - val_loss: 0.1542 - val_acc: 0.9598\n",
      "\n",
      "Epoch 00031: loss did not improve from 0.07647\n",
      "Epoch 32/100\n",
      "100/100 [==============================] - 19s 187ms/step - loss: 0.0751 - acc: 0.9757 - val_loss: 0.1409 - val_acc: 0.9605\n",
      "\n",
      "Epoch 00032: loss improved from 0.07647 to 0.07455, saving model to ./model_save_checkpoint/Xception-15th.h5\n",
      "Epoch 33/100\n",
      "100/100 [==============================] - 19s 193ms/step - loss: 0.0933 - acc: 0.9733 - val_loss: 0.1964 - val_acc: 0.9615\n",
      "\n",
      "Epoch 00033: loss did not improve from 0.07455\n",
      "Epoch 34/100\n",
      "100/100 [==============================] - 19s 193ms/step - loss: 0.1172 - acc: 0.9687 - val_loss: 0.2335 - val_acc: 0.9368\n",
      "\n",
      "Epoch 00034: loss did not improve from 0.07455\n",
      "Epoch 35/100\n",
      "100/100 [==============================] - 19s 191ms/step - loss: 0.1188 - acc: 0.9655 - val_loss: 0.2291 - val_acc: 0.9424\n",
      "\n",
      "Epoch 00035: loss did not improve from 0.07455\n",
      "Epoch 36/100\n",
      "100/100 [==============================] - 19s 192ms/step - loss: 0.1006 - acc: 0.9696 - val_loss: 0.2253 - val_acc: 0.9387\n",
      "\n",
      "Epoch 00036: loss did not improve from 0.07455\n",
      "Epoch 37/100\n",
      "100/100 [==============================] - 19s 191ms/step - loss: 0.1080 - acc: 0.9697 - val_loss: 0.1460 - val_acc: 0.9581\n",
      "\n",
      "Epoch 00037: loss did not improve from 0.07455\n",
      "Epoch 38/100\n",
      "100/100 [==============================] - 19s 192ms/step - loss: 0.0658 - acc: 0.9781 - val_loss: 0.1220 - val_acc: 0.9644\n",
      "\n",
      "Epoch 00038: loss improved from 0.07455 to 0.06582, saving model to ./model_save_checkpoint/Xception-15th.h5\n",
      "Epoch 39/100\n",
      "100/100 [==============================] - 19s 191ms/step - loss: 0.0455 - acc: 0.9872 - val_loss: 0.1195 - val_acc: 0.9661\n",
      "\n",
      "Epoch 00039: loss improved from 0.06582 to 0.04550, saving model to ./model_save_checkpoint/Xception-15th.h5\n",
      "Epoch 40/100\n",
      "100/100 [==============================] - 19s 191ms/step - loss: 0.0503 - acc: 0.9861 - val_loss: 0.1200 - val_acc: 0.9666\n",
      "\n",
      "Epoch 00040: loss did not improve from 0.04550\n",
      "Epoch 41/100\n",
      "100/100 [==============================] - 19s 192ms/step - loss: 0.0425 - acc: 0.9869 - val_loss: 0.1204 - val_acc: 0.9671\n",
      "\n",
      "Epoch 00041: loss improved from 0.04550 to 0.04252, saving model to ./model_save_checkpoint/Xception-15th.h5\n",
      "Epoch 42/100\n",
      "100/100 [==============================] - 19s 192ms/step - loss: 0.0403 - acc: 0.9881 - val_loss: 0.1180 - val_acc: 0.9692\n",
      "\n",
      "Epoch 00042: loss improved from 0.04252 to 0.04030, saving model to ./model_save_checkpoint/Xception-15th.h5\n",
      "Epoch 43/100\n",
      "100/100 [==============================] - 19s 192ms/step - loss: 0.0338 - acc: 0.9919 - val_loss: 0.1260 - val_acc: 0.9697\n",
      "\n",
      "Epoch 00043: loss improved from 0.04030 to 0.03378, saving model to ./model_save_checkpoint/Xception-15th.h5\n",
      "Epoch 44/100\n",
      "100/100 [==============================] - 19s 190ms/step - loss: 0.0322 - acc: 0.9887 - val_loss: 0.1225 - val_acc: 0.9695\n",
      "\n",
      "Epoch 00044: loss improved from 0.03378 to 0.03222, saving model to ./model_save_checkpoint/Xception-15th.h5\n",
      "Epoch 45/100\n",
      "100/100 [==============================] - 19s 192ms/step - loss: 0.0339 - acc: 0.9894 - val_loss: 0.1224 - val_acc: 0.9709\n",
      "\n",
      "Epoch 00045: loss did not improve from 0.03222\n",
      "Epoch 46/100\n",
      "100/100 [==============================] - 19s 193ms/step - loss: 0.0299 - acc: 0.9908 - val_loss: 0.1235 - val_acc: 0.9707\n",
      "\n",
      "Epoch 00046: loss improved from 0.03222 to 0.02994, saving model to ./model_save_checkpoint/Xception-15th.h5\n",
      "Epoch 47/100\n",
      "100/100 [==============================] - 19s 189ms/step - loss: 0.0261 - acc: 0.9916 - val_loss: 0.1286 - val_acc: 0.9702\n",
      "\n",
      "Epoch 00047: loss improved from 0.02994 to 0.02617, saving model to ./model_save_checkpoint/Xception-15th.h5\n",
      "Epoch 48/100\n",
      "100/100 [==============================] - 19s 193ms/step - loss: 0.0284 - acc: 0.9911 - val_loss: 0.1293 - val_acc: 0.9707\n",
      "\n",
      "Epoch 00048: loss did not improve from 0.02617\n",
      "Epoch 49/100\n",
      "100/100 [==============================] - 19s 189ms/step - loss: 0.0304 - acc: 0.9914 - val_loss: 0.1304 - val_acc: 0.9705\n",
      "\n",
      "Epoch 00049: loss did not improve from 0.02617\n",
      "Epoch 50/100\n",
      "100/100 [==============================] - 19s 191ms/step - loss: 0.0269 - acc: 0.9928 - val_loss: 0.1340 - val_acc: 0.9729\n",
      "\n",
      "Epoch 00050: loss did not improve from 0.02617\n",
      "Epoch 51/100\n",
      "100/100 [==============================] - 19s 192ms/step - loss: 0.0318 - acc: 0.9913 - val_loss: 0.1379 - val_acc: 0.9719\n",
      "\n",
      "Epoch 00051: loss did not improve from 0.02617\n",
      "Epoch 52/100\n",
      "100/100 [==============================] - 19s 193ms/step - loss: 0.0254 - acc: 0.9925 - val_loss: 0.1323 - val_acc: 0.9719\n",
      "\n",
      "Epoch 00052: loss improved from 0.02617 to 0.02540, saving model to ./model_save_checkpoint/Xception-15th.h5\n",
      "Epoch 53/100\n",
      "100/100 [==============================] - 19s 191ms/step - loss: 0.0227 - acc: 0.9919 - val_loss: 0.1308 - val_acc: 0.9734\n",
      "\n",
      "Epoch 00053: loss improved from 0.02540 to 0.02266, saving model to ./model_save_checkpoint/Xception-15th.h5\n",
      "Epoch 54/100\n",
      "100/100 [==============================] - 19s 193ms/step - loss: 0.0264 - acc: 0.9935 - val_loss: 0.1355 - val_acc: 0.9719\n",
      "\n",
      "Epoch 00054: loss improved from 0.02266 to 0.02254, saving model to ./model_save_checkpoint/Xception-15th.h5\n",
      "Epoch 55/100\n",
      "100/100 [==============================] - 19s 191ms/step - loss: 0.0235 - acc: 0.9939 - val_loss: 0.1534 - val_acc: 0.9690\n",
      "\n",
      "Epoch 00055: loss did not improve from 0.02254\n",
      "Epoch 56/100\n",
      "100/100 [==============================] - 19s 192ms/step - loss: 0.0256 - acc: 0.9945 - val_loss: 0.1421 - val_acc: 0.9714\n",
      "\n",
      "Epoch 00056: loss did not improve from 0.02254\n",
      "Epoch 57/100\n",
      "100/100 [==============================] - 19s 191ms/step - loss: 0.0201 - acc: 0.9931 - val_loss: 0.1423 - val_acc: 0.9719\n",
      "\n",
      "Epoch 00057: loss improved from 0.02254 to 0.02012, saving model to ./model_save_checkpoint/Xception-15th.h5\n",
      "Epoch 58/100\n",
      "100/100 [==============================] - 19s 192ms/step - loss: 0.0192 - acc: 0.9933 - val_loss: 0.1509 - val_acc: 0.9714\n",
      "\n",
      "Epoch 00058: loss improved from 0.02012 to 0.01915, saving model to ./model_save_checkpoint/Xception-15th.h5\n",
      "Epoch 59/100\n",
      "100/100 [==============================] - 19s 191ms/step - loss: 0.0173 - acc: 0.9936 - val_loss: 0.1540 - val_acc: 0.9707\n",
      "\n",
      "Epoch 00059: loss improved from 0.01915 to 0.01731, saving model to ./model_save_checkpoint/Xception-15th.h5\n",
      "Epoch 60/100\n",
      "100/100 [==============================] - 19s 193ms/step - loss: 0.0131 - acc: 0.9952 - val_loss: 0.1569 - val_acc: 0.9722\n",
      "\n",
      "Epoch 00060: loss improved from 0.01731 to 0.01308, saving model to ./model_save_checkpoint/Xception-15th.h5\n",
      "Epoch 61/100\n",
      "100/100 [==============================] - 19s 192ms/step - loss: 0.0215 - acc: 0.9955 - val_loss: 0.1511 - val_acc: 0.9717\n",
      "\n",
      "Epoch 00061: loss did not improve from 0.01308\n",
      "Epoch 62/100\n",
      "100/100 [==============================] - 19s 193ms/step - loss: 0.0159 - acc: 0.9955 - val_loss: 0.1530 - val_acc: 0.9726\n",
      "\n",
      "Epoch 00062: loss did not improve from 0.01308\n",
      "Epoch 63/100\n",
      "100/100 [==============================] - 19s 191ms/step - loss: 0.0116 - acc: 0.9969 - val_loss: 0.1604 - val_acc: 0.9709\n",
      "\n",
      "Epoch 00063: loss improved from 0.01308 to 0.01168, saving model to ./model_save_checkpoint/Xception-15th.h5\n",
      "Epoch 64/100\n",
      "100/100 [==============================] - 19s 191ms/step - loss: 0.0225 - acc: 0.9950 - val_loss: 0.1582 - val_acc: 0.9726\n",
      "\n",
      "Epoch 00064: loss did not improve from 0.01168\n",
      "Epoch 65/100\n",
      "100/100 [==============================] - 19s 191ms/step - loss: 0.0158 - acc: 0.9961 - val_loss: 0.1636 - val_acc: 0.9729\n",
      "\n",
      "Epoch 00065: loss did not improve from 0.01168\n",
      "Epoch 66/100\n",
      "100/100 [==============================] - 19s 191ms/step - loss: 0.0160 - acc: 0.9966 - val_loss: 0.2009 - val_acc: 0.9690\n",
      "\n",
      "Epoch 00066: loss did not improve from 0.01168\n",
      "Epoch 67/100\n",
      "100/100 [==============================] - 19s 191ms/step - loss: 0.0123 - acc: 0.9958 - val_loss: 0.1746 - val_acc: 0.9719\n",
      "\n",
      "Epoch 00067: loss did not improve from 0.01168\n",
      "Epoch 68/100\n",
      "100/100 [==============================] - 19s 192ms/step - loss: 0.0171 - acc: 0.9963 - val_loss: 0.1730 - val_acc: 0.9731\n",
      "\n",
      "Epoch 00068: loss did not improve from 0.01168\n",
      "Epoch 69/100\n",
      "100/100 [==============================] - 19s 192ms/step - loss: 0.0122 - acc: 0.9967 - val_loss: 0.1691 - val_acc: 0.9717\n",
      "\n",
      "Epoch 00069: loss did not improve from 0.01168\n",
      "Epoch 70/100\n",
      "100/100 [==============================] - 19s 191ms/step - loss: 0.0109 - acc: 0.9969 - val_loss: 0.1663 - val_acc: 0.9719\n",
      "\n",
      "Epoch 00070: loss improved from 0.01168 to 0.01090, saving model to ./model_save_checkpoint/Xception-15th.h5\n",
      "Epoch 71/100\n",
      "100/100 [==============================] - 19s 192ms/step - loss: 0.0155 - acc: 0.9964 - val_loss: 0.1695 - val_acc: 0.9722\n",
      "\n",
      "Epoch 00071: loss did not improve from 0.01090\n",
      "Epoch 72/100\n",
      "100/100 [==============================] - 19s 191ms/step - loss: 0.0087 - acc: 0.9981 - val_loss: 0.1720 - val_acc: 0.9722\n",
      "\n",
      "Epoch 00072: loss improved from 0.01090 to 0.00874, saving model to ./model_save_checkpoint/Xception-15th.h5\n",
      "Epoch 73/100\n",
      "100/100 [==============================] - 19s 192ms/step - loss: 0.0115 - acc: 0.9966 - val_loss: 0.1736 - val_acc: 0.9722\n",
      "\n",
      "Epoch 00073: loss did not improve from 0.00874\n",
      "Epoch 74/100\n",
      "100/100 [==============================] - 19s 192ms/step - loss: 0.0061 - acc: 0.9978 - val_loss: 0.1729 - val_acc: 0.9726\n",
      "\n",
      "Epoch 00074: loss improved from 0.00874 to 0.00608, saving model to ./model_save_checkpoint/Xception-15th.h5\n",
      "Epoch 75/100\n",
      "100/100 [==============================] - 19s 192ms/step - loss: 0.0104 - acc: 0.9969 - val_loss: 0.1737 - val_acc: 0.9719\n",
      "\n",
      "Epoch 00075: loss did not improve from 0.00608\n",
      "Epoch 76/100\n",
      "100/100 [==============================] - 19s 192ms/step - loss: 0.0084 - acc: 0.9978 - val_loss: 0.1750 - val_acc: 0.9719\n",
      "\n",
      "Epoch 00076: loss did not improve from 0.00608\n",
      "Epoch 77/100\n",
      "100/100 [==============================] - 19s 188ms/step - loss: 0.0071 - acc: 0.9973 - val_loss: 0.1772 - val_acc: 0.9719\n",
      "\n",
      "Epoch 00077: loss did not improve from 0.00608\n",
      "Epoch 78/100\n",
      "100/100 [==============================] - 19s 191ms/step - loss: 0.0146 - acc: 0.9964 - val_loss: 0.1770 - val_acc: 0.9722\n",
      "\n",
      "Epoch 00078: loss did not improve from 0.00608\n",
      "Epoch 79/100\n",
      "100/100 [==============================] - 19s 190ms/step - loss: 0.0127 - acc: 0.9973 - val_loss: 0.1780 - val_acc: 0.9719\n",
      "\n",
      "Epoch 00079: loss did not improve from 0.00608\n",
      "Epoch 80/100\n",
      "100/100 [==============================] - 19s 191ms/step - loss: 0.0059 - acc: 0.9980 - val_loss: 0.1770 - val_acc: 0.9719\n",
      "\n",
      "Epoch 00080: loss improved from 0.00608 to 0.00590, saving model to ./model_save_checkpoint/Xception-15th.h5\n",
      "Epoch 81/100\n",
      "100/100 [==============================] - 19s 192ms/step - loss: 0.0082 - acc: 0.9973 - val_loss: 0.1771 - val_acc: 0.9726\n",
      "\n",
      "Epoch 00081: loss did not improve from 0.00590\n",
      "Epoch 82/100\n",
      "100/100 [==============================] - 19s 190ms/step - loss: 0.0091 - acc: 0.9973 - val_loss: 0.1771 - val_acc: 0.9724\n",
      "\n",
      "Epoch 00082: loss did not improve from 0.00590\n",
      "Epoch 83/100\n",
      "100/100 [==============================] - 19s 192ms/step - loss: 0.0076 - acc: 0.9978 - val_loss: 0.1770 - val_acc: 0.9726\n",
      "\n",
      "Epoch 00083: loss did not improve from 0.00590\n",
      "Epoch 84/100\n",
      "100/100 [==============================] - 19s 191ms/step - loss: 0.0088 - acc: 0.9967 - val_loss: 0.1764 - val_acc: 0.9722\n",
      "\n",
      "Epoch 00084: loss did not improve from 0.00590\n",
      "Epoch 85/100\n",
      "100/100 [==============================] - 19s 191ms/step - loss: 0.0076 - acc: 0.9977 - val_loss: 0.1770 - val_acc: 0.9724\n",
      "\n",
      "Epoch 00085: loss did not improve from 0.00590\n",
      "Epoch 86/100\n",
      "100/100 [==============================] - 19s 191ms/step - loss: 0.0132 - acc: 0.9970 - val_loss: 0.1768 - val_acc: 0.9724\n",
      "\n",
      "Epoch 00086: loss did not improve from 0.00590\n",
      "Epoch 87/100\n",
      "100/100 [==============================] - 19s 192ms/step - loss: 0.0115 - acc: 0.9970 - val_loss: 0.1773 - val_acc: 0.9722\n",
      "\n",
      "Epoch 00087: loss did not improve from 0.00590\n",
      "Epoch 88/100\n",
      "100/100 [==============================] - 19s 191ms/step - loss: 0.0063 - acc: 0.9977 - val_loss: 0.1772 - val_acc: 0.9722\n",
      "\n",
      "Epoch 00088: loss did not improve from 0.00590\n",
      "Epoch 89/100\n",
      "100/100 [==============================] - 19s 192ms/step - loss: 0.0114 - acc: 0.9963 - val_loss: 0.1772 - val_acc: 0.9722\n",
      "\n",
      "Epoch 00089: loss did not improve from 0.00590\n",
      "Epoch 90/100\n",
      "100/100 [==============================] - 19s 193ms/step - loss: 0.0071 - acc: 0.9981 - val_loss: 0.1764 - val_acc: 0.9724\n",
      "\n",
      "Epoch 00090: loss did not improve from 0.00590\n",
      "Epoch 91/100\n",
      "100/100 [==============================] - 19s 192ms/step - loss: 0.0175 - acc: 0.9957 - val_loss: 0.1770 - val_acc: 0.9722\n",
      "\n",
      "Epoch 00091: loss did not improve from 0.00590\n",
      "Epoch 92/100\n",
      "100/100 [==============================] - 19s 192ms/step - loss: 0.0074 - acc: 0.9981 - val_loss: 0.1764 - val_acc: 0.9724\n",
      "\n",
      "Epoch 00092: loss did not improve from 0.00590\n",
      "Epoch 93/100\n",
      "100/100 [==============================] - 19s 191ms/step - loss: 0.0117 - acc: 0.9969 - val_loss: 0.1767 - val_acc: 0.9719\n",
      "\n",
      "Epoch 00093: loss did not improve from 0.00590\n",
      "Epoch 94/100\n",
      "100/100 [==============================] - 19s 191ms/step - loss: 0.0092 - acc: 0.9980 - val_loss: 0.1778 - val_acc: 0.9724\n",
      "\n",
      "Epoch 00094: loss did not improve from 0.00590\n",
      "Epoch 95/100\n",
      "100/100 [==============================] - 19s 192ms/step - loss: 0.0079 - acc: 0.9977 - val_loss: 0.1766 - val_acc: 0.9722\n",
      "\n",
      "Epoch 00095: loss did not improve from 0.00590\n",
      "Epoch 00095: early stopping\n"
     ]
    }
   ],
   "source": [
    "#optimizer = keras.optimizers.Adam(lr=10e-6)\n",
    "#steps_per_epoch 越大一個epoch越慢跑完\n",
    "model.compile(loss=\"categorical_crossentropy\",optimizer=\"adam\",metrics=[\"acc\"])\n",
    "# fits the model on batches with real-time data augmentation: # 用前面建好的 generator 做訓練\n",
    "model_history = model.fit_generator(datagen.flow(trainX, trainY, batch_size=64), steps_per_epoch=100, epochs = 100,\\\n",
    "                                    validation_data = (valX, valY), callbacks = [earlystop, checkpoint, lr_reducer]) "
   ]
  },
  {
   "cell_type": "code",
   "execution_count": 18,
   "metadata": {},
   "outputs": [
    {
     "data": {
      "image/png": "[encoded data removed]",
      "text/plain": [
       "<Figure size 432x288 with 1 Axes>"
      ]
     },
     "metadata": {
      "needs_background": "light"
     },
     "output_type": "display_data"
    }
   ],
   "source": [
    "import numpy\n",
    "training_loss = model_history.history['loss']\n",
    "val_loss = model_history.history['val_loss']\n",
    "\n",
    "numpy_loss_history = numpy.array(training_loss)\n",
    "numpy_loss_valhistory = numpy.array(val_loss)\n",
    "numpy.savetxt(\"15th_loss_history.txt\", numpy_loss_history, delimiter=\",\")\n",
    "numpy.savetxt(\"15th_val_loss_history.txt\", numpy_loss_valhistory , delimiter=\",\")\n",
    "\n",
    "plt.plot(training_loss, label=\"training_loss\")\n",
    "plt.plot(val_loss, label=\"validation_loss\")\n",
    "plt.xlabel(\"Epochs\")\n",
    "plt.ylabel(\"Loss\")\n",
    "plt.title(\"Learning Curve\")\n",
    "plt.legend(loc='best')\n",
    "plt.show()\n"
   ]
  },
  {
   "cell_type": "code",
   "execution_count": 19,
   "metadata": {},
   "outputs": [
    {
     "data": {
      "image/png": "[encoded data removed]",
      "text/plain": [
       "<Figure size 432x288 with 1 Axes>"
      ]
     },
     "metadata": {
      "needs_background": "light"
     },
     "output_type": "display_data"
    }
   ],
   "source": [
    "training_acc = model_history.history['acc']\n",
    "val_acc = model_history.history['val_acc']\n",
    "\n",
    "numpy_acc_history = numpy.array(training_acc)\n",
    "numpy_val_acc_history = numpy.array(val_acc)\n",
    "numpy.savetxt(\"15th_acc_history.txt\", numpy_acc_history, delimiter=\",\")\n",
    "numpy.savetxt(\"15th_val_acc_history.txt\", numpy_val_acc_history , delimiter=\",\")\n",
    "\n",
    "plt.plot(training_acc, label=\"training_acc\")\n",
    "plt.plot(val_acc, label=\"validation_acc\")\n",
    "plt.xlabel(\"Epochs\")\n",
    "plt.ylabel(\"Acc\")\n",
    "plt.title(\"Learning Curve\")\n",
    "plt.legend(loc='best')\n",
    "plt.show()"
   ]
  },
  {
   "cell_type": "code",
   "execution_count": 20,
   "metadata": {},
   "outputs": [],
   "source": [
    "model.save(\"15th.h5\")"
   ]
  },
  {
   "cell_type": "code",
   "execution_count": null,
   "metadata": {},
   "outputs": [],
   "source": []
  },
  {
   "cell_type": "code",
   "execution_count": 32,
   "metadata": {},
   "outputs": [
    {
     "data": {
      "text/plain": [
       "'/home/jovyan/Vivian_1070926/Yunzy'"
      ]
     },
     "execution_count": 32,
     "metadata": {},
     "output_type": "execute_result"
    }
   ],
   "source": [
    "# os.getcwd()"
   ]
  },
  {
   "cell_type": "code",
   "execution_count": 33,
   "metadata": {},
   "outputs": [],
   "source": [
    "# os.chdir('/home/jovyan/Vivian_1070926/Yunzy/model_save')"
   ]
  },
  {
   "cell_type": "code",
   "execution_count": 1,
   "metadata": {},
   "outputs": [],
   "source": [
    "# from keras.models import load_model\n",
    "# model = load_model('15th.h5')"
   ]
  },
  {
   "cell_type": "code",
   "execution_count": 21,
   "metadata": {},
   "outputs": [
    {
     "name": "stdout",
     "output_type": "stream",
     "text": [
      "4130/4130 [==============================] - 4s 996us/step\n",
      "Validation loss: 0.2170400934839563\n",
      "Validation accuracy: 0.9673123486682809\n"
     ]
    }
   ],
   "source": [
    "scores = model.evaluate(testX, testnewY, verbose=1)\n",
    "print('Validation loss:', scores[0])\n",
    "print('Validation accuracy:', scores[1])"
   ]
  },
  {
   "cell_type": "markdown",
   "metadata": {},
   "source": [
    "from keras.models import load_model\n",
    "model_history1 = load_model(\"2nd.h5\")"
   ]
  },
  {
   "cell_type": "code",
   "execution_count": 22,
   "metadata": {},
   "outputs": [
    {
     "data": {
      "text/plain": [
       "array([ 3,  5,  9, ...,  3,  7, 11])"
      ]
     },
     "execution_count": 22,
     "metadata": {},
     "output_type": "execute_result"
    }
   ],
   "source": [
    "prediction = model.predict_classes(testX)\n",
    "prediction"
   ]
  },
  {
   "cell_type": "markdown",
   "metadata": {},
   "source": [
    "# testY必須是在onehot升維前的數字"
   ]
  },
  {
   "cell_type": "code",
   "execution_count": 23,
   "metadata": {},
   "outputs": [
    {
     "data": {
      "text/plain": [
       "array([[267,   5,   2,   0,   0,   0,   0,   0,   0,   0,   0,   1],\n",
       "       [  4, 264,   0,   0,   0,   0,   0,   0,   0,   0,   0,   0],\n",
       "       [  0,   0, 230,   1,   5,   0,   0,   0,   0,   0,   0,   0],\n",
       "       [  0,   0,   8, 234,   4,   1,   0,  24,   0,   0,   0,   4],\n",
       "       [  0,   0,  13,   7, 249,   0,   0,   3,   0,   0,   0,   0],\n",
       "       [  1,   0,   0,   1,   0, 265,   2,   0,   0,   0,   0,   0],\n",
       "       [  0,   0,   0,   1,   0,   0, 274,   0,   0,   0,   0,   0],\n",
       "       [  0,   0,   4,  19,   5,   0,   0, 421,   0,   0,   0,  11],\n",
       "       [  0,   0,   0,   0,   0,   0,   0,   0, 259,   0,   0,   0],\n",
       "       [  0,   3,   0,   0,   0,   0,   0,   0,   0, 273,   0,   0],\n",
       "       [  0,   0,   0,   0,   0,   0,   0,   0,   0,   0, 289,   0],\n",
       "       [  0,   1,   0,   1,   0,   0,   0,   4,   0,   0,   0, 970]])"
      ]
     },
     "execution_count": 23,
     "metadata": {},
     "output_type": "execute_result"
    }
   ],
   "source": [
    "from sklearn.metrics import confusion_matrix\n",
    "confusion_matrix(testY, prediction)"
   ]
  },
  {
   "cell_type": "code",
   "execution_count": null,
   "metadata": {},
   "outputs": [],
   "source": []
  }
 ],
 "metadata": {
  "kernelspec": {
   "display_name": "Python 3",
   "language": "python",
   "name": "python3"
  },
  "language_info": {
   "codemirror_mode": {
    "name": "ipython",
    "version": 3
   },
   "file_extension": ".py",
   "mimetype": "text/x-python",
   "name": "python",
   "nbconvert_exporter": "python",
   "pygments_lexer": "ipython3",
   "version": "3.6.6"
  }
 },
 "nbformat": 4,
 "nbformat_minor": 2
}
