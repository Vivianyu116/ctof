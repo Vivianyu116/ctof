{
 "cells": [
  {
   "cell_type": "code",
   "execution_count": 1,
   "metadata": {},
   "outputs": [
    {
     "name": "stderr",
     "output_type": "stream",
     "text": [
      "/opt/conda/lib/python3.6/site-packages/h5py/__init__.py:36: FutureWarning: Conversion of the second argument of issubdtype from `float` to `np.floating` is deprecated. In future, it will be treated as `np.float64 == np.dtype(float).type`.\n",
      "  from ._conv import register_converters as _register_converters\n",
      "Using TensorFlow backend.\n"
     ]
    }
   ],
   "source": [
    "from keras.preprocessing.image import ImageDataGenerator\n",
    "from keras.optimizers import Adam\n",
    "from sklearn.model_selection import train_test_split\n",
    "from keras.preprocessing.image import img_to_array\n",
    "from keras.utils import to_categorical\n",
    "from keras.callbacks import EarlyStopping, ModelCheckpoint\n",
    "from PIL import Image\n",
    "import cv2\n",
    "import matplotlib.pyplot as plt\n",
    "import numpy as np\n",
    "import argparse\n",
    "import random\n",
    "import os\n",
    "import sys\n",
    "sys.path.append('..')"
   ]
  },
  {
   "cell_type": "code",
   "execution_count": 2,
   "metadata": {},
   "outputs": [
    {
     "name": "stdout",
     "output_type": "stream",
     "text": [
      "Requirement already satisfied: imutils in /opt/conda/lib/python3.6/site-packages (0.5.1)\n"
     ]
    }
   ],
   "source": [
    "! pip install imutils"
   ]
  },
  {
   "cell_type": "code",
   "execution_count": 3,
   "metadata": {},
   "outputs": [],
   "source": [
    "from imutils import paths"
   ]
  },
  {
   "cell_type": "code",
   "execution_count": 6,
   "metadata": {},
   "outputs": [
    {
     "data": {
      "text/plain": [
       "'/home/jovyan/Vivian_1070926/Yunzy'"
      ]
     },
     "execution_count": 6,
     "metadata": {},
     "output_type": "execute_result"
    }
   ],
   "source": [
    "os.getcwd()"
   ]
  },
  {
   "cell_type": "code",
   "execution_count": 5,
   "metadata": {},
   "outputs": [],
   "source": [
    "os.chdir('/home/jovyan/Vivian_1070926/Yunzy')"
   ]
  },
  {
   "cell_type": "code",
   "execution_count": 7,
   "metadata": {},
   "outputs": [],
   "source": [
    "a={'dent':0, 'leeton':1, 'pimple':2, 'residual':3, 'scratch_M':4, 'spot_M':5, 'foreign':6,\\\n",
    "   'longscratch_M':7, 'pinhole':8, 'scratch':9, 'spot':10, 'wrinkle':11}"
   ]
  },
  {
   "cell_type": "code",
   "execution_count": 8,
   "metadata": {},
   "outputs": [],
   "source": [
    "CLASS_NUM =12"
   ]
  },
  {
   "cell_type": "code",
   "execution_count": 9,
   "metadata": {},
   "outputs": [],
   "source": [
    "data=[]\n",
    "labels=[]\n",
    "imagePaths = sorted(list(paths.list_images(\"1121aug_12types_100x100/\")))\n",
    "random.seed(42)\n",
    "random.shuffle(imagePaths)\n",
    "for sub in imagePaths:\n",
    "        label = sub.split(os.path.sep)[1] \n",
    "        if label[0] == \".\":\n",
    "            continue\n",
    "        labels.append(a[label])\n",
    "        image = Image.open(sub)\n",
    "        try:\n",
    "            image = image.resize((100, 100))\n",
    "        except:\n",
    "            print(image)\n",
    "        image = img_to_array(image)\n",
    "        data.append(image)\n",
    "#     data = np.array(data, dtype=\"float\") / 255.0\n",
    "#     labels = np.array(labels)        \n",
    "#     (trainX, testX, trainY, testY) = train_test_split(data,\\\n",
    "#             labels, test_size=0.2, random_state=42)      \n",
    "#     #(trainX, valX, trainY, valY) = train_test_split(trainX,\\\n",
    "#             #trainY, test_size=0.25, random_state=42)\n",
    "#     trainY = to_categorical(trainY, num_classes=CLASS_NUM)\n",
    "#     testY = to_categorical(testY, num_classes=CLASS_NUM)\n",
    "#     #valY = to_categorical(valY, num_classes=CLASS_NUM)\n",
    "    "
   ]
  },
  {
   "cell_type": "code",
   "execution_count": 10,
   "metadata": {},
   "outputs": [],
   "source": [
    "data = np.array(data, dtype=\"float\") / 255.0\n",
    "labels = np.array(labels)        "
   ]
  },
  {
   "cell_type": "code",
   "execution_count": 11,
   "metadata": {},
   "outputs": [],
   "source": [
    "(trainX, testX, trainY, testY) = train_test_split(data,\\\n",
    "            labels, test_size=0.2, random_state=42)      \n",
    "# (trainX, valX, trainY, valY) = train_test_split(trainX,\\\n",
    "#             trainY, test_size=0.25, random_state=42)"
   ]
  },
  {
   "cell_type": "code",
   "execution_count": 12,
   "metadata": {},
   "outputs": [],
   "source": [
    "trainY = to_categorical(trainY, num_classes=CLASS_NUM)\n",
    "testnewY = to_categorical(testY, num_classes=CLASS_NUM)\n",
    "#valY = to_categorical(valY, num_classes=CLASS_NUM)\n"
   ]
  },
  {
   "cell_type": "code",
   "execution_count": 13,
   "metadata": {},
   "outputs": [
    {
     "name": "stdout",
     "output_type": "stream",
     "text": [
      "(16497, 100, 100, 3) (16497, 12) (4125, 100, 100, 3) (4125, 12)\n"
     ]
    }
   ],
   "source": [
    "print(trainX.shape, trainY.shape, testX.shape, testnewY.shape)"
   ]
  },
  {
   "cell_type": "code",
   "execution_count": 21,
   "metadata": {},
   "outputs": [],
   "source": [
    "from keras.applications import Xception  #引入能夠架 Xception 的類別\n",
    "from keras import models\n",
    "from keras import layers\n",
    "conv_base = Xception(weights=\"imagenet\",include_top=False,input_shape=(100,100,3)) # 架 Xception\n",
    "model = models.Sequential() # 建一個空的模型\n",
    "model.add(conv_base) # 把前面架好的 Xception 放進模型\n",
    "model.add(layers.Flatten()) # 把 Xception 抽取出的圖片特徵攤平\n",
    "model.add(layers.Dense(256,activation=\"relu\",kernel_initializer='random_normal')) # 再來就是通過幾層 Dense 來做分類\n",
    "model.add(layers.Dropout(0.3)) # 加 Dropout 避免 overfitting\n",
    "model.add(layers.Dense(128,activation=\"relu\",kernel_initializer='random_normal'))\n",
    "model.add(layers.Dropout(0.3))\n",
    "model.add(layers.Dense(12,activation=\"softmax\",kernel_initializer='random_normal'))"
   ]
  },
  {
   "cell_type": "code",
   "execution_count": 22,
   "metadata": {},
   "outputs": [],
   "source": [
    "datagen = ImageDataGenerator(width_shift_range=0.01,\\\n",
    "                             height_shift_range=0.01,shear_range=0.005,zoom_range=0.005,horizontal_flip=True)\n",
    "\n",
    "# compute quantities required for featurewise normalization\n",
    "# (std, mean, and principal components if ZCA whitening is applied)\n",
    "#datagen.fit(trainX)"
   ]
  },
  {
   "cell_type": "code",
   "execution_count": 23,
   "metadata": {},
   "outputs": [],
   "source": [
    "#checkpoint 在每个训练期之后保存模型。\n",
    "#checkpoint = ModelCheckpoint(model_path, monitor='val_loss', save_best_only=True, verbose=1)\n",
    "earlystop = EarlyStopping(monitor='loss', patience=8, verbose=1)"
   ]
  },
  {
   "cell_type": "code",
   "execution_count": 24,
   "metadata": {},
   "outputs": [
    {
     "name": "stdout",
     "output_type": "stream",
     "text": [
      "Epoch 1/100\n",
      "100/100 [==============================] - 20s 195ms/step - loss: 1.1402 - acc: 0.6828\n",
      "Epoch 2/100\n",
      "100/100 [==============================] - 10s 98ms/step - loss: 0.6770 - acc: 0.8247\n",
      "Epoch 3/100\n",
      "100/100 [==============================] - 10s 100ms/step - loss: 0.5344 - acc: 0.8617\n",
      "Epoch 4/100\n",
      "100/100 [==============================] - 10s 99ms/step - loss: 0.4531 - acc: 0.8872\n",
      "Epoch 5/100\n",
      "100/100 [==============================] - 10s 98ms/step - loss: 0.3619 - acc: 0.8981\n",
      "Epoch 6/100\n",
      "100/100 [==============================] - 10s 98ms/step - loss: 0.3777 - acc: 0.8937\n",
      "Epoch 7/100\n",
      "100/100 [==============================] - 10s 101ms/step - loss: 0.3508 - acc: 0.9106\n",
      "Epoch 8/100\n",
      "100/100 [==============================] - 10s 101ms/step - loss: 0.2699 - acc: 0.9203\n",
      "Epoch 9/100\n",
      "100/100 [==============================] - 10s 100ms/step - loss: 0.3228 - acc: 0.9135\n",
      "Epoch 10/100\n",
      "100/100 [==============================] - 10s 102ms/step - loss: 0.2672 - acc: 0.9231\n",
      "Epoch 11/100\n",
      "100/100 [==============================] - 10s 102ms/step - loss: 0.2849 - acc: 0.9213\n",
      "Epoch 12/100\n",
      "100/100 [==============================] - 10s 103ms/step - loss: 0.2522 - acc: 0.9287\n",
      "Epoch 13/100\n",
      "100/100 [==============================] - 10s 102ms/step - loss: 0.2486 - acc: 0.9313\n",
      "Epoch 14/100\n",
      "100/100 [==============================] - 10s 102ms/step - loss: 0.2842 - acc: 0.9172\n",
      "Epoch 15/100\n",
      "100/100 [==============================] - 10s 100ms/step - loss: 0.2721 - acc: 0.9266\n",
      "Epoch 16/100\n",
      "100/100 [==============================] - 10s 102ms/step - loss: 0.3052 - acc: 0.9184\n",
      "Epoch 17/100\n",
      "100/100 [==============================] - 10s 101ms/step - loss: 0.2716 - acc: 0.9231\n",
      "Epoch 18/100\n",
      "100/100 [==============================] - 10s 101ms/step - loss: 0.2196 - acc: 0.9366\n",
      "Epoch 19/100\n",
      "100/100 [==============================] - 10s 101ms/step - loss: 0.2334 - acc: 0.9366\n",
      "Epoch 20/100\n",
      "100/100 [==============================] - 10s 102ms/step - loss: 0.2214 - acc: 0.9394\n",
      "Epoch 21/100\n",
      "100/100 [==============================] - 10s 102ms/step - loss: 0.2101 - acc: 0.9409\n",
      "Epoch 22/100\n",
      "100/100 [==============================] - 10s 100ms/step - loss: 0.1811 - acc: 0.9509\n",
      "Epoch 23/100\n",
      "100/100 [==============================] - 10s 101ms/step - loss: 0.2075 - acc: 0.9435\n",
      "Epoch 24/100\n",
      "100/100 [==============================] - 10s 102ms/step - loss: 0.1981 - acc: 0.9459\n",
      "Epoch 25/100\n",
      "100/100 [==============================] - 10s 101ms/step - loss: 0.2113 - acc: 0.9381\n",
      "Epoch 26/100\n",
      "100/100 [==============================] - 10s 102ms/step - loss: 0.1715 - acc: 0.9469\n",
      "Epoch 27/100\n",
      "100/100 [==============================] - 10s 101ms/step - loss: 0.1689 - acc: 0.9497\n",
      "Epoch 28/100\n",
      "100/100 [==============================] - 10s 102ms/step - loss: 0.1892 - acc: 0.9447\n",
      "Epoch 29/100\n",
      "100/100 [==============================] - 10s 101ms/step - loss: 0.1661 - acc: 0.9472\n",
      "Epoch 30/100\n",
      "100/100 [==============================] - 10s 102ms/step - loss: 0.1863 - acc: 0.9506\n",
      "Epoch 31/100\n",
      "100/100 [==============================] - 10s 101ms/step - loss: 0.1929 - acc: 0.9419\n",
      "Epoch 32/100\n",
      "100/100 [==============================] - 10s 102ms/step - loss: 0.1988 - acc: 0.9431\n",
      "Epoch 33/100\n",
      "100/100 [==============================] - 10s 102ms/step - loss: 0.1974 - acc: 0.9475\n",
      "Epoch 34/100\n",
      "100/100 [==============================] - 10s 100ms/step - loss: 0.2048 - acc: 0.9441\n",
      "Epoch 35/100\n",
      "100/100 [==============================] - 10s 102ms/step - loss: 0.1813 - acc: 0.9478\n",
      "Epoch 36/100\n",
      "100/100 [==============================] - 10s 101ms/step - loss: 0.1607 - acc: 0.9559\n",
      "Epoch 37/100\n",
      "100/100 [==============================] - 10s 103ms/step - loss: 0.1707 - acc: 0.9519\n",
      "Epoch 38/100\n",
      "100/100 [==============================] - 10s 101ms/step - loss: 0.1479 - acc: 0.9600\n",
      "Epoch 39/100\n",
      "100/100 [==============================] - 10s 99ms/step - loss: 0.1381 - acc: 0.9587\n",
      "Epoch 40/100\n",
      "100/100 [==============================] - 10s 100ms/step - loss: 0.1716 - acc: 0.9510\n",
      "Epoch 41/100\n",
      "100/100 [==============================] - 10s 101ms/step - loss: 0.1492 - acc: 0.9531\n",
      "Epoch 42/100\n",
      "100/100 [==============================] - 10s 104ms/step - loss: 0.1819 - acc: 0.9538\n",
      "Epoch 43/100\n",
      "100/100 [==============================] - 10s 102ms/step - loss: 0.1587 - acc: 0.9513\n",
      "Epoch 44/100\n",
      "100/100 [==============================] - 10s 101ms/step - loss: 0.1759 - acc: 0.9537\n",
      "Epoch 45/100\n",
      "100/100 [==============================] - 10s 101ms/step - loss: 0.2100 - acc: 0.9406\n",
      "Epoch 46/100\n",
      "100/100 [==============================] - 10s 100ms/step - loss: 0.1662 - acc: 0.9519\n",
      "Epoch 47/100\n",
      "100/100 [==============================] - 10s 103ms/step - loss: 0.1690 - acc: 0.9547\n",
      "Epoch 00047: early stopping\n"
     ]
    }
   ],
   "source": [
    "#optimizer = keras.optimizers.Adam(lr=10e-6)\n",
    "#steps_per_epoch 越大一個epoch越慢跑完\n",
    "model.compile(loss=\"categorical_crossentropy\",optimizer=\"adam\",metrics=[\"acc\"])\n",
    "# fits the model on batches with real-time data augmentation: # 用前面建好的 generator 做訓練\n",
    "model_history = model.fit_generator(datagen.flow(trainX, trainY, batch_size=32), steps_per_epoch=100, epochs = 100,\\\n",
    "                                    callbacks = [earlystop]) "
   ]
  },
  {
   "cell_type": "code",
   "execution_count": 2,
   "metadata": {},
   "outputs": [
    {
     "ename": "NameError",
     "evalue": "name 'model_history1' is not defined",
     "output_type": "error",
     "traceback": [
      "\u001b[0;31m---------------------------------------------------------------------------\u001b[0m",
      "\u001b[0;31mNameError\u001b[0m                                 Traceback (most recent call last)",
      "\u001b[0;32m<ipython-input-2-5e2e7ec11ec2>\u001b[0m in \u001b[0;36m<module>\u001b[0;34m()\u001b[0m\n\u001b[0;32m----> 1\u001b[0;31m \u001b[0mtraining_loss\u001b[0m \u001b[0;34m=\u001b[0m \u001b[0mmodel_history1\u001b[0m\u001b[0;34m.\u001b[0m\u001b[0mhistory\u001b[0m\u001b[0;34m[\u001b[0m\u001b[0;34m'loss'\u001b[0m\u001b[0;34m]\u001b[0m\u001b[0;34m\u001b[0m\u001b[0m\n\u001b[0m\u001b[1;32m      2\u001b[0m \u001b[0;31m#val_loss = model_history1.history['val_loss']\u001b[0m\u001b[0;34m\u001b[0m\u001b[0;34m\u001b[0m\u001b[0m\n\u001b[1;32m      3\u001b[0m \u001b[0;34m\u001b[0m\u001b[0m\n\u001b[1;32m      4\u001b[0m \u001b[0mplt\u001b[0m\u001b[0;34m.\u001b[0m\u001b[0mplot\u001b[0m\u001b[0;34m(\u001b[0m\u001b[0mtraining_loss\u001b[0m\u001b[0;34m,\u001b[0m \u001b[0mlabel\u001b[0m\u001b[0;34m=\u001b[0m\u001b[0;34m\"training_loss\"\u001b[0m\u001b[0;34m)\u001b[0m\u001b[0;34m\u001b[0m\u001b[0m\n\u001b[1;32m      5\u001b[0m \u001b[0;31m#plt.plot(val_loss, label=\"validation_loss\")\u001b[0m\u001b[0;34m\u001b[0m\u001b[0;34m\u001b[0m\u001b[0m\n",
      "\u001b[0;31mNameError\u001b[0m: name 'model_history1' is not defined"
     ]
    }
   ],
   "source": [
    "training_loss = model_history.history['loss']\n",
    "#val_loss = model_history1.history['val_loss']\n",
    "\n",
    "plt.plot(training_loss, label=\"training_loss\")\n",
    "#plt.plot(val_loss, label=\"validation_loss\")\n",
    "plt.xlabel(\"Epochs\")\n",
    "plt.ylabel(\"Loss\")\n",
    "plt.title(\"Learning Curve\")\n",
    "plt.legend(loc='best')\n",
    "plt.show()"
   ]
  },
  {
   "cell_type": "code",
   "execution_count": 27,
   "metadata": {},
   "outputs": [
    {
     "data": {
      "image/png": "[encoded data removed]",
      "text/plain": [
       "<Figure size 432x288 with 1 Axes>"
      ]
     },
     "metadata": {
      "needs_background": "light"
     },
     "output_type": "display_data"
    }
   ],
   "source": [
    "training_acc = model_history.history['acc']\n",
    "#val_acc = model_history1.history['val_acc']\n",
    "\n",
    "plt.plot(training_acc, label=\"training_acc\")\n",
    "#plt.plot(val_acc, label=\"validation_acc\")\n",
    "plt.xlabel(\"Epochs\")\n",
    "plt.ylabel(\"Acc\")\n",
    "plt.title(\"Learning Curve\")\n",
    "plt.legend(loc='best')\n",
    "plt.show()"
   ]
  },
  {
   "cell_type": "markdown",
   "metadata": {},
   "source": [
    "## 再來我們可以將之前凍住的CNN部分，只讓後面幾層跟著訓練，對模型做到 Fine-tuning 的效果，要注意的是優化器的 learning rate 要調小一點，不然模型可能會 train 壞掉。"
   ]
  },
  {
   "cell_type": "code",
   "execution_count": 25,
   "metadata": {},
   "outputs": [
    {
     "name": "stdout",
     "output_type": "stream",
     "text": [
      "Epoch 1/100\n",
      "200/200 [==============================] - 17s 83ms/step - loss: 0.1211 - acc: 0.9627\n",
      "Epoch 2/100\n",
      "200/200 [==============================] - 13s 64ms/step - loss: 0.1272 - acc: 0.9621\n",
      "Epoch 3/100\n",
      "200/200 [==============================] - 13s 64ms/step - loss: 0.1143 - acc: 0.9645\n",
      "Epoch 4/100\n",
      "200/200 [==============================] - 12s 62ms/step - loss: 0.1123 - acc: 0.9633\n",
      "Epoch 5/100\n",
      "200/200 [==============================] - 12s 61ms/step - loss: 0.1089 - acc: 0.9656\n",
      "Epoch 6/100\n",
      "200/200 [==============================] - 12s 62ms/step - loss: 0.1202 - acc: 0.9644\n",
      "Epoch 7/100\n",
      "200/200 [==============================] - 13s 63ms/step - loss: 0.0989 - acc: 0.9694\n",
      "Epoch 8/100\n",
      "200/200 [==============================] - 13s 64ms/step - loss: 0.1102 - acc: 0.9655\n",
      "Epoch 9/100\n",
      "200/200 [==============================] - 13s 64ms/step - loss: 0.1138 - acc: 0.9664\n",
      "Epoch 10/100\n",
      "200/200 [==============================] - 12s 62ms/step - loss: 0.0917 - acc: 0.9722\n",
      "Epoch 11/100\n",
      "200/200 [==============================] - 12s 62ms/step - loss: 0.1165 - acc: 0.9675\n",
      "Epoch 12/100\n",
      "200/200 [==============================] - 12s 61ms/step - loss: 0.1024 - acc: 0.9684\n",
      "Epoch 13/100\n",
      "200/200 [==============================] - 13s 66ms/step - loss: 0.0971 - acc: 0.9684\n",
      "Epoch 14/100\n",
      "200/200 [==============================] - 12s 62ms/step - loss: 0.1003 - acc: 0.9700\n",
      "Epoch 15/100\n",
      "200/200 [==============================] - 12s 62ms/step - loss: 0.1072 - acc: 0.9675\n",
      "Epoch 16/100\n",
      "200/200 [==============================] - 13s 63ms/step - loss: 0.0996 - acc: 0.9688\n",
      "Epoch 17/100\n",
      "200/200 [==============================] - 12s 61ms/step - loss: 0.1003 - acc: 0.9714\n",
      "Epoch 18/100\n",
      "200/200 [==============================] - 12s 61ms/step - loss: 0.1054 - acc: 0.9670\n",
      "Epoch 00018: early stopping\n"
     ]
    }
   ],
   "source": [
    "from keras.optimizers import Adam\n",
    "\n",
    "conv_base.trainable = True # 先將整塊 CNN 部分變成 trainable\n",
    "for index, layer in enumerate(conv_base.layers):\n",
    "    if(index < len(conv_base.layers) * 0.8):\n",
    "        layer.trainable = False # 再來將前 80% 的層凍住，這樣就只有後面的層會 train 到\n",
    "    else:\n",
    "        break\n",
    "adam = Adam(lr = 0.00001) #將 adam 的 learning rate 調小\n",
    "model.compile(loss=\"categorical_crossentropy\", optimizer=adam, metrics=[\"acc\"])\n",
    "model_history1= model.fit_generator(datagen.flow(trainX, trainY, batch_size=32),steps_per_epoch=200,\\\n",
    "                                    epochs=100,callbacks = [earlystop]) # 用前面建好的 generator 做訓練"
   ]
  },
  {
   "cell_type": "code",
   "execution_count": 2,
   "metadata": {},
   "outputs": [
    {
     "ename": "NameError",
     "evalue": "name 'model_history1' is not defined",
     "output_type": "error",
     "traceback": [
      "\u001b[0;31m---------------------------------------------------------------------------\u001b[0m",
      "\u001b[0;31mNameError\u001b[0m                                 Traceback (most recent call last)",
      "\u001b[0;32m<ipython-input-2-5e2e7ec11ec2>\u001b[0m in \u001b[0;36m<module>\u001b[0;34m()\u001b[0m\n\u001b[0;32m----> 1\u001b[0;31m \u001b[0mtraining_loss\u001b[0m \u001b[0;34m=\u001b[0m \u001b[0mmodel_history1\u001b[0m\u001b[0;34m.\u001b[0m\u001b[0mhistory\u001b[0m\u001b[0;34m[\u001b[0m\u001b[0;34m'loss'\u001b[0m\u001b[0;34m]\u001b[0m\u001b[0;34m\u001b[0m\u001b[0m\n\u001b[0m\u001b[1;32m      2\u001b[0m \u001b[0;31m#val_loss = model_history1.history['val_loss']\u001b[0m\u001b[0;34m\u001b[0m\u001b[0;34m\u001b[0m\u001b[0m\n\u001b[1;32m      3\u001b[0m \u001b[0;34m\u001b[0m\u001b[0m\n\u001b[1;32m      4\u001b[0m \u001b[0mplt\u001b[0m\u001b[0;34m.\u001b[0m\u001b[0mplot\u001b[0m\u001b[0;34m(\u001b[0m\u001b[0mtraining_loss\u001b[0m\u001b[0;34m,\u001b[0m \u001b[0mlabel\u001b[0m\u001b[0;34m=\u001b[0m\u001b[0;34m\"training_loss\"\u001b[0m\u001b[0;34m)\u001b[0m\u001b[0;34m\u001b[0m\u001b[0m\n\u001b[1;32m      5\u001b[0m \u001b[0;31m#plt.plot(val_loss, label=\"validation_loss\")\u001b[0m\u001b[0;34m\u001b[0m\u001b[0;34m\u001b[0m\u001b[0m\n",
      "\u001b[0;31mNameError\u001b[0m: name 'model_history1' is not defined"
     ]
    }
   ],
   "source": [
    "training_loss = model_history1.history['loss']\n",
    "#val_loss = model_history1.history['val_loss']\n",
    "\n",
    "plt.plot(training_loss, label=\"training_loss\")\n",
    "#plt.plot(val_loss, label=\"validation_loss\")\n",
    "plt.xlabel(\"Epochs\")\n",
    "plt.ylabel(\"Loss\")\n",
    "plt.title(\"Learning Curve\")\n",
    "plt.legend(loc='best')\n",
    "plt.show()"
   ]
  },
  {
   "cell_type": "code",
   "execution_count": 27,
   "metadata": {},
   "outputs": [
    {
     "data": {
      "image/png": "[encoded data removed]",
      "text/plain": [
       "<Figure size 432x288 with 1 Axes>"
      ]
     },
     "metadata": {
      "needs_background": "light"
     },
     "output_type": "display_data"
    }
   ],
   "source": [
    "training_acc = model_history1.history['acc']\n",
    "#val_acc = model_history1.history['val_acc']\n",
    "\n",
    "plt.plot(training_acc, label=\"training_acc\")\n",
    "#plt.plot(val_acc, label=\"validation_acc\")\n",
    "plt.xlabel(\"Epochs\")\n",
    "plt.ylabel(\"Acc\")\n",
    "plt.title(\"Learning Curve\")\n",
    "plt.legend(loc='best')\n",
    "plt.show()"
   ]
  },
  {
   "cell_type": "code",
   "execution_count": 28,
   "metadata": {},
   "outputs": [],
   "source": [
    "model.save(\"7th.h5\")"
   ]
  },
  {
   "cell_type": "code",
   "execution_count": null,
   "metadata": {},
   "outputs": [],
   "source": []
  },
  {
   "cell_type": "code",
   "execution_count": 17,
   "metadata": {},
   "outputs": [
    {
     "data": {
      "text/plain": [
       "'/home/jovyan/Vivian_1070926/Yunzy/model_save'"
      ]
     },
     "execution_count": 17,
     "metadata": {},
     "output_type": "execute_result"
    }
   ],
   "source": [
    "os.getcwd()"
   ]
  },
  {
   "cell_type": "code",
   "execution_count": 16,
   "metadata": {},
   "outputs": [],
   "source": [
    "os.chdir('/home/jovyan/Vivian_1070926/Yunzy/model_save')"
   ]
  },
  {
   "cell_type": "code",
   "execution_count": 18,
   "metadata": {},
   "outputs": [],
   "source": [
    "from keras.models import load_model\n",
    "model = load_model('7th.h5')"
   ]
  },
  {
   "cell_type": "code",
   "execution_count": 19,
   "metadata": {},
   "outputs": [
    {
     "name": "stdout",
     "output_type": "stream",
     "text": [
      "4125/4125 [==============================] - 5s 1ms/step\n",
      "Validation loss: 0.09639608038600647\n",
      "Validation accuracy: 0.9692121210820747\n"
     ]
    }
   ],
   "source": [
    "scores = model.evaluate(testX, testnewY, verbose=1)\n",
    "print('Validation loss:', scores[0])\n",
    "print('Validation accuracy:', scores[1])"
   ]
  },
  {
   "cell_type": "markdown",
   "metadata": {},
   "source": [
    "from keras.models import load_model\n",
    "model_history1 = load_model(\"2nd.h5\")"
   ]
  },
  {
   "cell_type": "code",
   "execution_count": 20,
   "metadata": {},
   "outputs": [
    {
     "data": {
      "text/plain": [
       "array([ 9, 11,  8, ...,  2,  1,  5])"
      ]
     },
     "execution_count": 20,
     "metadata": {},
     "output_type": "execute_result"
    }
   ],
   "source": [
    "prediction = model.predict_classes(testX)\n",
    "prediction"
   ]
  },
  {
   "cell_type": "markdown",
   "metadata": {},
   "source": [
    "# testY必須是在onehot升維前的數字"
   ]
  },
  {
   "cell_type": "code",
   "execution_count": 21,
   "metadata": {},
   "outputs": [
    {
     "data": {
      "text/plain": [
       "array([[235,   2,   1,   0,   0,   0,   0,   0,   0,   0,   2,   0],\n",
       "       [  2, 265,   0,   0,   0,   0,   0,   0,   0,   0,   1,   0],\n",
       "       [  0,   0, 268,   5,  20,   0,   0,   2,   0,   0,   0,   0],\n",
       "       [  0,   0,   6, 211,   5,   0,   3,  19,   0,   0,   0,   1],\n",
       "       [  0,   0,   8,   3, 264,   0,   0,  11,   0,   0,   0,   0],\n",
       "       [  0,   0,   0,   0,   0, 295,   1,   0,   0,   0,   0,   0],\n",
       "       [  0,   0,   0,   0,   0,   1, 237,   0,   0,   0,   0,   0],\n",
       "       [  0,   0,   1,   5,   6,   0,   0, 458,   0,   0,   0,   7],\n",
       "       [  0,   0,   0,   0,   0,   0,   0,   0, 265,   0,   0,   0],\n",
       "       [  1,   0,   0,   0,   0,   0,   0,   0,   0, 256,   0,   1],\n",
       "       [  0,   0,   0,   0,   0,   0,   0,   0,   0,   0, 288,   4],\n",
       "       [  0,   0,   0,   0,   0,   0,   1,   8,   0,   0,   0, 956]])"
      ]
     },
     "execution_count": 21,
     "metadata": {},
     "output_type": "execute_result"
    }
   ],
   "source": [
    "from sklearn.metrics import confusion_matrix\n",
    "confusion_matrix(testY, prediction)"
   ]
  },
  {
   "cell_type": "code",
   "execution_count": null,
   "metadata": {},
   "outputs": [],
   "source": []
  }
 ],
 "metadata": {
  "kernelspec": {
   "display_name": "Python 3",
   "language": "python",
   "name": "python3"
  },
  "language_info": {
   "codemirror_mode": {
    "name": "ipython",
    "version": 3
   },
   "file_extension": ".py",
   "mimetype": "text/x-python",
   "name": "python",
   "nbconvert_exporter": "python",
   "pygments_lexer": "ipython3",
   "version": "3.6.6"
  }
 },
 "nbformat": 4,
 "nbformat_minor": 2
}
